{
 "cells": [
  {
   "cell_type": "code",
   "execution_count": 1,
   "metadata": {
    "ExecuteTime": {
     "end_time": "2021-01-20T09:06:32.948380Z",
     "start_time": "2021-01-20T09:06:32.756318Z"
    }
   },
   "outputs": [],
   "source": [
    "import requests \n",
    "from bs4 import BeautifulSoup\n",
    "from selenium import webdriver\n",
    "from selenium.webdriver.chrome.options import Options\n",
    "import time \n",
    "import re \n",
    "from tqdm.notebook import tqdm\n",
    "import random\n",
    "\n",
    "import shutil #이미지저장"
   ]
  },
  {
   "cell_type": "markdown",
   "metadata": {},
   "source": [
    "### get urls  많이 하면 인스타그램에서 로봇으로 판정하는듯함.\n",
    "* 해결방안은 있을까? -> 휴식시간을 많이주니까 걸리진 않은듯"
   ]
  },
  {
   "cell_type": "markdown",
   "metadata": {},
   "source": [
    "### 통합\n",
    "* 2021-01-19 기본 쉬는시간 : 6 + 0.7X100 + (3~5)X100, 800건 기준 18시간 걸림(too_late)\n",
    "* 2021-01-20 기본 쉬는시간 : 4 + 0.5X1000 + (2~4)X1000, 미정 (없어질 각오하고 크게돌리기)"
   ]
  },
  {
   "cell_type": "code",
   "execution_count": null,
   "metadata": {
    "ExecuteTime": {
     "start_time": "2021-01-20T09:06:32.745Z"
    }
   },
   "outputs": [
    {
     "name": "stderr",
     "output_type": "stream",
     "text": [
      "C:\\Users\\User\\Anaconda3\\lib\\site-packages\\ipykernel_launcher.py:18: DeprecationWarning: use options instead of chrome_options\n"
     ]
    },
    {
     "data": {
      "application/vnd.jupyter.widget-view+json": {
       "model_id": "7331389891b84771b23065edb0daa653",
       "version_major": 2,
       "version_minor": 0
      },
      "text/plain": [
       "HBox(children=(FloatProgress(value=0.0, max=1000.0), HTML(value='')))"
      ]
     },
     "metadata": {},
     "output_type": "display_data"
    }
   ],
   "source": [
    "#크롬드라이버 작동\n",
    "user = 'id'\n",
    "password = 'pw'\n",
    "keyword = \"풀빌라\" \n",
    "before_data= '풀빌라_822.csv'\n",
    "scroll_num = 1000 #스크롤 횟수 많을수록 검색 url수 증가 100기준 700건\n",
    "headers = {'user-agent': 'Mozilla/5.0 (Windows NT 10.0; Win64; x64) AppleWebKit/537.36 (KHTML, like Gecko) Chrome/79.0.3945.130 Safari/537.36'}\n",
    "before = True\n",
    "img_save = True\n",
    "url = \"https://www.instagram.com/explore/tags/{}/\".format(keyword) \n",
    "# 크롬드라이버 작동 \n",
    "options = Options()\n",
    "options.add_argument('--start-maximized') #전체화면\n",
    "options.add_argument(f'user-agent={headers}')\n",
    "options.add_argument('--headless') #headless(화면안켜고)\n",
    "driver = webdriver.Chrome(executable_path='./chromedriver', chrome_options=options)\n",
    "driver.get(url) \n",
    "time.sleep(2) \n",
    "\n",
    "try : #로그인 안해도 되는 경우도 있음\n",
    "    #로그인(id, password 입력)\n",
    "    ele = driver.find_element_by_css_selector('#loginForm > div > div:nth-child(1) > div > label > input')\n",
    "    ele.send_keys(user)\n",
    "    ele = driver.find_element_by_css_selector('#loginForm > div > div:nth-child(2) > div > label > input')\n",
    "    ele.send_keys(password)\n",
    "    ele = driver.find_element_by_css_selector('#loginForm > div > div:nth-child(3) > button > div')\n",
    "    ele.click()\n",
    "    time.sleep(2)\n",
    "    ele = driver.find_element_by_css_selector('#react-root > section > main > div > div > div > div > button') #로그인저장 창 통제\n",
    "    ele.click()\n",
    "except :\n",
    "    pass\n",
    "\n",
    "#url 수집\n",
    "url_halfs = []\n",
    "count = 1\n",
    "for i in tqdm(range(0, scroll_num)): \n",
    "    source = driver.page_source\n",
    "    soup = BeautifulSoup(source, 'html.parser')\n",
    "    \n",
    "    #url저장\n",
    "    url_source = soup.select('#react-root > section > main > article  a')\n",
    "    for url_half in url_source:\n",
    "        url_halfs.append(url_half.attrs['href'])\n",
    "        \n",
    "    #중복제거\n",
    "    url_halfs = list(set(url_halfs))\n",
    "    driver.execute_script(\"window.scrollTo(0, document.body.scrollHeight);\") #휠스크롤\n",
    "    time.sleep(0.5)\n",
    "    count =+ i\n",
    "#     print(count)\n",
    "print(f'수집된 url수:{len(url_halfs)}')\n",
    "driver.close()"
   ]
  },
  {
   "cell_type": "code",
   "execution_count": null,
   "metadata": {
    "ExecuteTime": {
     "start_time": "2021-01-20T09:06:32.746Z"
    }
   },
   "outputs": [],
   "source": [
    "#이전 url이 있는 경우 제외\n",
    "\n",
    "b_url = pd.read_csv(before_data)['url']\n",
    "b_url = b_url.apply(lambda x : x.replace('https://www.instagram.com/',''))\n",
    "\n",
    "url_s = pd.Series(url_halfs)\n",
    "url_halfs = list(url_s[~(url_s.apply(lambda x : any([url in x for url in b_url])))].values)\n",
    "\n",
    "#드라이버 재시작\n",
    "driver = webdriver.Chrome(executable_path='./chromedriver', chrome_options=options)\n",
    "\n",
    "#각 게시글에서 정보추출\n",
    "nonetype = type(print()) #타입비교 용도\n",
    "index_dict = dict() #데이터 임시저장\n",
    "if img_save == True:\n",
    "    os.makedirs('./img',exist_ok=True) #이미지_저장폴더\n",
    "\n",
    "for index, url_half in tqdm(enumerate(url_halfs)):\n",
    "    #저장 초기화\n",
    "    contents = dict()\n",
    "    contents['dates'] = []\n",
    "    contents['user_id'] = []\n",
    "    contents['body'] = []\n",
    "    contents['hashtags'] = []\n",
    "    contents['comments'] = []\n",
    "    contents['like'] = []\n",
    "    contents['movie'] = []\n",
    "    contents['url'] = []\n",
    "    contents['image'] =[]\n",
    "    real_url = f'https://www.instagram.com/{url_half}'\n",
    "    driver.get(real_url)\n",
    "    source = driver.page_source\n",
    "    soup = BeautifulSoup(source, 'html.parser')\n",
    "    \n",
    "    #사람처럼 행동 random하게 스크롤 작동\n",
    "    ran_cnt = random.randint(1,5)\n",
    "    ran_length = random.choice(np.arange(100,200,100))\n",
    "    for count in range(0,ran_cnt):\n",
    "        driver.execute_script(f\"window.scrollTo(0, {ran_length})\")\n",
    "        ran_length *= 2\n",
    "#         time.sleep(0.5)\n",
    "    \n",
    "    #dates\n",
    "    try :\n",
    "        dates = soup.select('div.k_Q0X.NnvRN')[0].text\n",
    "    except :\n",
    "        dates = ''\n",
    "    \n",
    "    #id\n",
    "    try :\n",
    "        user_id = soup.select('span.Jv7Aj.mArmR.MqpiF')[0].text\n",
    "    except :\n",
    "        user_id = ''\n",
    "    \n",
    "    #본문\n",
    "    try :\n",
    "        body = soup.select_one('body div.C4VMK > span').text\n",
    "    except : \n",
    "        body = []\n",
    "    \n",
    "    #comment\n",
    "    try : \n",
    "        comments = soup.select('div.C4VMK > span')\n",
    "        comments = [comment.text for comment in comments]\n",
    "    except:\n",
    "        comments = []\n",
    "        \n",
    "    #해쉬태그\n",
    "    try :\n",
    "        hashtags = soup.find_all(attrs={'class':'xil3i'})\n",
    "        hashtags = [hashtag.text for hashtag in hashtags]\n",
    "    except :\n",
    "        print('no hashtag')\n",
    "        hashtags.append([])\n",
    "\n",
    "    #좋아요수(동영상의 경우 view) #코드 요약 필요할듯 \n",
    "    p_tag = soup.select_one('div.Nm9Fw') #사진테그\n",
    "    m_tag = soup.select_one('span.vcOH2') #동영상테그\n",
    "    if type(m_tag) == nonetype: #사진인경우\n",
    "#         print('p_tag')\n",
    "        try:\n",
    "            movie=0\n",
    "            like = soup.select_one('div.Nm9Fw span').text #좋아요 수         \n",
    "        except :\n",
    "            like = 0\n",
    "    elif type(p_tag) == nonetype:#동영상인경우\n",
    "#         print('m_tag')\n",
    "        try :\n",
    "            movie=1\n",
    "            like = soup.select_one('div.vcOH2 span').text #조회수 수         \n",
    "        except :\n",
    "            like = 0\n",
    "    #최소화해놓으면 안되고 최소화 하지 않으면 작동안함()\n",
    "#     random_stop = random.randint(2,4) #인간답게하려고 랜덤으로 2~4초 스탑\n",
    "#     time.sleep(random_stop)\n",
    "    if img_save == True:\n",
    "        try :\n",
    "            imgurl = soup.select('div.KL4Bh')[0].img['src']\n",
    "            response = requests.get(imgurl, stream = True)\n",
    "            local_file = open(f'./img/{keyword}_{index}.jpg','wb') #저장임시파일\n",
    "            response.raw.decode_content = True #역할이...?\n",
    "            shutil.copyfileobj(response.raw, local_file)\n",
    "#             print(f'{index}, 이미지저장')\n",
    "            image = 1\n",
    "        except Exception as ex:\n",
    "#             print(f'{index}, 이미지저장실패')\n",
    "#             print(ex) \n",
    "            image = 0\n",
    "            pass\n",
    "      \n",
    "    #저장\n",
    "    contents['body'] = body\n",
    "    contents['comments'] = contents['comments'] + comments\n",
    "    contents['hashtags'] = contents['hashtags'] + hashtags\n",
    "    contents['dates'] = dates\n",
    "    contents['user_id'] = user_id\n",
    "    contents['like'] = like\n",
    "    contents['movie'] = movie\n",
    "    contents['url'] = real_url\n",
    "    contents['image'] = image\n",
    "    \n",
    "    #벤방지\n",
    "    time.sleep(random_stop) \n",
    "    \n",
    "    #인덱스맞춰저장\n",
    "    index_dict[index] = contents\n",
    "\n",
    "driver.close()\n",
    "#데이터프레임화\n",
    "temp = pd.DataFrame(index_dict)\n",
    "temp = temp.T"
   ]
  },
  {
   "cell_type": "markdown",
   "metadata": {},
   "source": [
    "### 데이터정비"
   ]
  },
  {
   "cell_type": "markdown",
   "metadata": {},
   "source": [
    "#### 결측제거"
   ]
  },
  {
   "cell_type": "code",
   "execution_count": null,
   "metadata": {
    "ExecuteTime": {
     "start_time": "2021-01-20T09:06:32.747Z"
    }
   },
   "outputs": [],
   "source": [
    "#결측제거\n",
    "temp = temp.drop(temp[temp['dates'] == ''].index)\n",
    "temp = temp.reset_index()"
   ]
  },
  {
   "cell_type": "markdown",
   "metadata": {},
   "source": [
    "#### 해시테그 통합"
   ]
  },
  {
   "cell_type": "code",
   "execution_count": null,
   "metadata": {
    "ExecuteTime": {
     "start_time": "2021-01-20T09:06:32.748Z"
    }
   },
   "outputs": [],
   "source": [
    "#body, comment\n",
    "def get_hashtags(x,style):\n",
    "    pattern = '#[0-9a-zA-Z가-힣]+'\n",
    "    if style == 'body':\n",
    "        tags = re.findall(pattern,x[0])\n",
    "        tags = [tag.replace('#','').strip() for tag in tags]\n",
    "    if style == 'hashtag':\n",
    "        tags = [tag.replace('#','') for tag in x]\n",
    "    return tags\n",
    "\n",
    "body_tag = temp['body'].apply(lambda x : get_hashtags(x,'body'))\n",
    "hashtag_tag = temp['hashtags'].apply(lambda x : get_hashtags(x,'hashtag'))\n",
    "\n",
    "body_tag = body_tag.to_dict()\n",
    "hashtag_tag = hashtag_tag.to_dict()\n",
    "\n",
    "#comment\n",
    "comment_tag = dict()\n",
    "pattern = '#[0-9a-zA-Z가-힣]+'\n",
    "for i in range(0,len(temp)):\n",
    "    b_tag = []\n",
    "    try : \n",
    "        for m in range(0,2):\n",
    "            comment = temp['comments'].iloc[i][m]\n",
    "            c_tag = re.findall(pattern,comment)\n",
    "            cc_tag = [tag.replace('#','').strip() for tag in c_tag]\n",
    "            b_tag = b_tag + cc_tag\n",
    "    except :\n",
    "        pass\n",
    "    comment_tag[i] = b_tag\n",
    "\n",
    "#모든 해시태그\n",
    "all_tag = dict()\n",
    "\n",
    "for num, i in enumerate(range(0, len(comment_tag))):\n",
    "    all_tag[num] = \",\".join(list(set(body_tag[i] + hashtag_tag[i] + comment_tag[i])))\n",
    "\n",
    "temp['all_tag'] = all_tag.values()"
   ]
  },
  {
   "cell_type": "markdown",
   "metadata": {},
   "source": [
    "### 날짜정리"
   ]
  },
  {
   "cell_type": "code",
   "execution_count": null,
   "metadata": {
    "ExecuteTime": {
     "start_time": "2021-01-20T09:06:32.749Z"
    },
    "code_folding": []
   },
   "outputs": [],
   "source": [
    "def time_change(x,nomalize = False):\n",
    "    import re\n",
    "    from datetime import timedelta \n",
    "    '''검색결과에 있는 문자를 날짜로 변경\n",
    "    크롤링시 작성일자가 1분 전/1시간 전/1일 전으로 나타는 경우가 존재\n",
    "    이러한 패턴을 일반적인 YY-MM-DD형태로 변환\n",
    "    그리고 월별 계산이 중요하므로 모든 데이터는 1일로 통일\n",
    "    \n",
    "    Return\n",
    "    -------\n",
    "    x : datetime\n",
    "        날짜형형태로 전환\n",
    "        \n",
    "    Example\n",
    "    -------\n",
    "    >>> x = \"47분 전\"\n",
    "    >>> time_change(x)\n",
    "    datetime.datetime(2020, 6, 1, 0, 0)\n",
    "    \n",
    "    >>> x2 = \"2019.01.31\"\n",
    "    >>> time_change(x2)\n",
    "    datetime.datetime(2019, 1, 1, 0, 0)\n",
    "    '''\n",
    "    \n",
    "    number = re.compile('[0-9]+')\n",
    "    today = datetime.datetime.today().date()\n",
    "    x = str(x)\n",
    "    # 일자\n",
    "    if \"일 전\" in x :\n",
    "        d = re.findall(number, x)[0]\n",
    "        x = today - timedelta(days=int(d))\n",
    "    elif \"시간 전\" in x:\n",
    "        d = re.findall(number, x)[0]\n",
    "        x = today\n",
    "    elif \"분 전\" in x:\n",
    "        d = re.findall(number, x)[0]\n",
    "        x = today\n",
    "    elif x == \"어제\":\n",
    "        x = today - timedelta(days=1)\n",
    "    elif \"월\" in x: # '%Y년 %m월 %d일'형태\n",
    "        try :\n",
    "            x = datetime.datetime.strptime(x, '%Y년 %m월 %d일')\n",
    "        except :\n",
    "            x = datetime.datetime.strptime(f'2021년 {x}', '%Y년 %m월 %d일')\n",
    "    else :\n",
    "        x = x\n",
    "    \n",
    "    #모든일자를 1일로 통일\n",
    "    if nomalize:\n",
    "        x = datetime.datetime.strptime(x.strftime('%Y-%m')+\"-01\",\"%Y-%m-%d\")\n",
    "    return x"
   ]
  },
  {
   "cell_type": "code",
   "execution_count": null,
   "metadata": {
    "ExecuteTime": {
     "start_time": "2021-01-20T09:06:32.750Z"
    }
   },
   "outputs": [],
   "source": [
    "temp['dates']  = temp['dates'].apply(lambda x : time_change(x))"
   ]
  },
  {
   "cell_type": "markdown",
   "metadata": {},
   "source": [
    "### 저장"
   ]
  },
  {
   "cell_type": "code",
   "execution_count": null,
   "metadata": {
    "ExecuteTime": {
     "start_time": "2021-01-20T09:06:32.751Z"
    }
   },
   "outputs": [],
   "source": [
    "temp.to_csv(f'{keyword}_{len(temp)}.csv', index = False)"
   ]
  },
  {
   "cell_type": "code",
   "execution_count": null,
   "metadata": {},
   "outputs": [],
   "source": []
  }
 ],
 "metadata": {
  "kernelspec": {
   "display_name": "Python 3",
   "language": "python",
   "name": "python3"
  },
  "language_info": {
   "codemirror_mode": {
    "name": "ipython",
    "version": 3
   },
   "file_extension": ".py",
   "mimetype": "text/x-python",
   "name": "python",
   "nbconvert_exporter": "python",
   "pygments_lexer": "ipython3",
   "version": "3.6.5"
  },
  "toc": {
   "base_numbering": 1,
   "nav_menu": {},
   "number_sections": true,
   "sideBar": true,
   "skip_h1_title": false,
   "title_cell": "Table of Contents",
   "title_sidebar": "Contents",
   "toc_cell": false,
   "toc_position": {},
   "toc_section_display": true,
   "toc_window_display": false
  },
  "varInspector": {
   "cols": {
    "lenName": 16,
    "lenType": 16,
    "lenVar": 40
   },
   "kernels_config": {
    "python": {
     "delete_cmd_postfix": "",
     "delete_cmd_prefix": "del ",
     "library": "var_list.py",
     "varRefreshCmd": "print(var_dic_list())"
    },
    "r": {
     "delete_cmd_postfix": ") ",
     "delete_cmd_prefix": "rm(",
     "library": "var_list.r",
     "varRefreshCmd": "cat(var_dic_list()) "
    }
   },
   "types_to_exclude": [
    "module",
    "function",
    "builtin_function_or_method",
    "instance",
    "_Feature"
   ],
   "window_display": false
  }
 },
 "nbformat": 4,
 "nbformat_minor": 2
}

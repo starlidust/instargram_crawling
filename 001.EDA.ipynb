{
 "cells": [
  {
   "cell_type": "code",
   "execution_count": 16,
   "metadata": {
    "ExecuteTime": {
     "end_time": "2021-01-19T08:10:15.057910Z",
     "start_time": "2021-01-19T08:10:15.054909Z"
    }
   },
   "outputs": [],
   "source": [
    "import pandas as pd\n",
    "import re\n",
    "from datetime import timedelta "
   ]
  },
  {
   "cell_type": "code",
   "execution_count": 4,
   "metadata": {
    "ExecuteTime": {
     "end_time": "2021-01-19T08:07:57.826607Z",
     "start_time": "2021-01-19T08:07:57.816605Z"
    }
   },
   "outputs": [],
   "source": [
    "df = pd.read_csv('풀빌라_137.csv')"
   ]
  },
  {
   "cell_type": "code",
   "execution_count": 32,
   "metadata": {
    "ExecuteTime": {
     "end_time": "2021-01-19T08:24:55.592799Z",
     "start_time": "2021-01-19T08:24:55.586797Z"
    }
   },
   "outputs": [],
   "source": [
    "def time_change(x):\n",
    "    import re\n",
    "    from datetime import timedelta \n",
    "    '''검색결과에 있는 문자를 날짜로 변경\n",
    "    네이버 블로그 크롤링시 작성일자가 1분전/1시간전/1일전으로 나타는 경우가 가끔씩 존재\n",
    "    이러한 패턴을 일반적인 YY-MM-DD형태로 변환함\n",
    "    그리고 월별 계산이 중요하므로 모든 데이터는 1일로 통일\n",
    "    \n",
    "    Return\n",
    "    -------\n",
    "    x : datetime\n",
    "        날짜형형태로 전환\n",
    "        \n",
    "    Example\n",
    "    -------\n",
    "    >>> x = \"47분 전\"\n",
    "    >>> time_change(x)\n",
    "    datetime.datetime(2020, 6, 1, 0, 0)\n",
    "    \n",
    "    >>> x2 = \"2019.01.31\"\n",
    "    >>> time_change(x2)\n",
    "    datetime.datetime(2019, 1, 1, 0, 0)\n",
    "    '''\n",
    "    \n",
    "    number = re.compile('[0-9]+')\n",
    "    today = datetime.datetime.today().date()\n",
    "    # 일자\n",
    "    if \"일\" in x :\n",
    "        d = re.findall(number, x)[0]\n",
    "        x = today - timedelta(days=int(d))\n",
    "    elif \"시간\" in x:\n",
    "        d = re.findall(number, x)[0]\n",
    "        x = today\n",
    "    elif \"분\" in x:\n",
    "        d = re.findall(number, x)[0]\n",
    "        x = today\n",
    "    elif x == \"어제\":\n",
    "        x = today - timedelta(days=1)\n",
    "    elif type(x) == str: # 'YY.NN.DD'형태\n",
    "        x = datetime.datetime.strptime(x.replace('.', '-')[:-1], '%Y-%m-%d')\n",
    "    \n",
    "    #모든일자를 1일로 통일\n",
    "#     x = datetime.datetime.strptime(x.strftime('%Y-%m')+\"-01\",\"%Y-%m-%d\")\n",
    "    return x"
   ]
  },
  {
   "cell_type": "code",
   "execution_count": 37,
   "metadata": {
    "ExecuteTime": {
     "end_time": "2021-01-19T08:25:56.954105Z",
     "start_time": "2021-01-19T08:25:56.948103Z"
    }
   },
   "outputs": [
    {
     "data": {
      "text/plain": [
       "miroctum         13\n",
       "huhu0067_         3\n",
       "s.mimimi_579      3\n",
       "warmheart532      2\n",
       "j.young_____      2\n",
       "                 ..\n",
       "lovely__hajun     1\n",
       "siro7144          1\n",
       "gamsung_villa     1\n",
       "ttt.ri            1\n",
       "kwonmomo25        1\n",
       "Name: user_id, Length: 115, dtype: int64"
      ]
     },
     "execution_count": 37,
     "metadata": {},
     "output_type": "execute_result"
    }
   ],
   "source": [
    "df['user_id'].value_counts()"
   ]
  },
  {
   "cell_type": "code",
   "execution_count": 42,
   "metadata": {
    "ExecuteTime": {
     "end_time": "2021-01-19T08:27:20.541200Z",
     "start_time": "2021-01-19T08:27:20.533199Z"
    }
   },
   "outputs": [
    {
     "data": {
      "text/html": [
       "<div>\n",
       "<style scoped>\n",
       "    .dataframe tbody tr th:only-of-type {\n",
       "        vertical-align: middle;\n",
       "    }\n",
       "\n",
       "    .dataframe tbody tr th {\n",
       "        vertical-align: top;\n",
       "    }\n",
       "\n",
       "    .dataframe thead th {\n",
       "        text-align: right;\n",
       "    }\n",
       "</style>\n",
       "<table border=\"1\" class=\"dataframe\">\n",
       "  <thead>\n",
       "    <tr style=\"text-align: right;\">\n",
       "      <th></th>\n",
       "      <th>dates</th>\n",
       "      <th>user_id</th>\n",
       "      <th>body</th>\n",
       "      <th>hashtags</th>\n",
       "      <th>comments</th>\n",
       "      <th>like</th>\n",
       "      <th>movie</th>\n",
       "      <th>url</th>\n",
       "      <th>image</th>\n",
       "    </tr>\n",
       "  </thead>\n",
       "  <tbody>\n",
       "    <tr>\n",
       "      <th>7</th>\n",
       "      <td>2021-01-19</td>\n",
       "      <td>j.young_____</td>\n",
       "      <td>['-언니야는 자고 아빠는 춥고아기랑 엄마랑 #모닝수영#물놀이 후엔 #컵라면 #꿀맛...</td>\n",
       "      <td>['#모닝수영', '#물놀이', '#컵라면', '#꿀맛', '#수영', '#고추장찌...</td>\n",
       "      <td>['-언니야는 자고 아빠는 춥고아기랑 엄마랑 #모닝수영#물놀이 후엔 #컵라면 #꿀맛...</td>\n",
       "      <td>12</td>\n",
       "      <td>0</td>\n",
       "      <td>https://www.instagram.com//p/CKNm34FFKg7/</td>\n",
       "      <td>1</td>\n",
       "    </tr>\n",
       "    <tr>\n",
       "      <th>126</th>\n",
       "      <td>2021-01-19</td>\n",
       "      <td>j.young_____</td>\n",
       "      <td>['-방에서 보는 #일출 feat. #파도소리그리고 #밤바다 #낮바다 #바다 #파도...</td>\n",
       "      <td>['#일출', '#파도소리', '#밤바다', '#낮바다', '#바다', '#파도',...</td>\n",
       "      <td>['-방에서 보는 #일출 feat. #파도소리그리고 #밤바다 #낮바다 #바다 #파도...</td>\n",
       "      <td>23</td>\n",
       "      <td>0</td>\n",
       "      <td>https://www.instagram.com//p/CKNFk5ylj8Q/</td>\n",
       "      <td>1</td>\n",
       "    </tr>\n",
       "  </tbody>\n",
       "</table>\n",
       "</div>"
      ],
      "text/plain": [
       "          dates       user_id  \\\n",
       "7    2021-01-19  j.young_____   \n",
       "126  2021-01-19  j.young_____   \n",
       "\n",
       "                                                  body  \\\n",
       "7    ['-언니야는 자고 아빠는 춥고아기랑 엄마랑 #모닝수영#물놀이 후엔 #컵라면 #꿀맛...   \n",
       "126  ['-방에서 보는 #일출 feat. #파도소리그리고 #밤바다 #낮바다 #바다 #파도...   \n",
       "\n",
       "                                              hashtags  \\\n",
       "7    ['#모닝수영', '#물놀이', '#컵라면', '#꿀맛', '#수영', '#고추장찌...   \n",
       "126  ['#일출', '#파도소리', '#밤바다', '#낮바다', '#바다', '#파도',...   \n",
       "\n",
       "                                              comments like  movie  \\\n",
       "7    ['-언니야는 자고 아빠는 춥고아기랑 엄마랑 #모닝수영#물놀이 후엔 #컵라면 #꿀맛...   12      0   \n",
       "126  ['-방에서 보는 #일출 feat. #파도소리그리고 #밤바다 #낮바다 #바다 #파도...   23      0   \n",
       "\n",
       "                                           url  image  \n",
       "7    https://www.instagram.com//p/CKNm34FFKg7/      1  \n",
       "126  https://www.instagram.com//p/CKNFk5ylj8Q/      1  "
      ]
     },
     "execution_count": 42,
     "metadata": {},
     "output_type": "execute_result"
    }
   ],
   "source": [
    "df[df['user_id'] == 'j.young_____']"
   ]
  }
 ],
 "metadata": {
  "kernelspec": {
   "display_name": "Python 3",
   "language": "python",
   "name": "python3"
  },
  "language_info": {
   "codemirror_mode": {
    "name": "ipython",
    "version": 3
   },
   "file_extension": ".py",
   "mimetype": "text/x-python",
   "name": "python",
   "nbconvert_exporter": "python",
   "pygments_lexer": "ipython3",
   "version": "3.6.5"
  },
  "toc": {
   "base_numbering": 1,
   "nav_menu": {},
   "number_sections": true,
   "sideBar": true,
   "skip_h1_title": false,
   "title_cell": "Table of Contents",
   "title_sidebar": "Contents",
   "toc_cell": false,
   "toc_position": {},
   "toc_section_display": true,
   "toc_window_display": false
  },
  "varInspector": {
   "cols": {
    "lenName": 16,
    "lenType": 16,
    "lenVar": 40
   },
   "kernels_config": {
    "python": {
     "delete_cmd_postfix": "",
     "delete_cmd_prefix": "del ",
     "library": "var_list.py",
     "varRefreshCmd": "print(var_dic_list())"
    },
    "r": {
     "delete_cmd_postfix": ") ",
     "delete_cmd_prefix": "rm(",
     "library": "var_list.r",
     "varRefreshCmd": "cat(var_dic_list()) "
    }
   },
   "types_to_exclude": [
    "module",
    "function",
    "builtin_function_or_method",
    "instance",
    "_Feature"
   ],
   "window_display": false
  }
 },
 "nbformat": 4,
 "nbformat_minor": 2
}

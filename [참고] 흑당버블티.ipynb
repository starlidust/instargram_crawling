{
 "cells": [
  {
   "cell_type": "code",
   "execution_count": null,
   "metadata": {},
   "outputs": [],
   "source": [
    "import requests \n",
    "from bs4 import BeautifulSoup\n",
    "from selenium import webdriver\n",
    "from selenium.webdriver.common.by import By \n",
    "from selenium.webdriver.support.ui import WebDriverWait \n",
    "from selenium.webdriver.support import expected_conditions as EC \n",
    "import time \n",
    "import re "
   ]
  },
  {
   "cell_type": "code",
   "execution_count": null,
   "metadata": {},
   "outputs": [],
   "source": [
    "keyword = \"흑당버블티\" \n",
    "url = \"https://www.instagram.com/explore/tags/{}/\".format(keyword) \n",
    "instagram_tags = [] \n",
    "instagram_tag_dates = [] \n",
    "driver = wd.Chrome(\"./chromedriver\") \n",
    "driver.get(url)\n",
    "time.sleep(3)\n",
    "driver.find_element_by_css_selector('div.v1Nh3.kIKUG._bz0w').click() \n",
    "for i in range(76086): \n",
    "    time.sleep(1) \n",
    "    try: \n",
    "        data = driver.find_element_by_css_selector('.C7I1f.X7jCj') # C7I1f X7jCj \n",
    "        tag_raw = data.text \n",
    "        tags = re.findall('#[A-Za-z0-9가-힣]+', tag_raw) \n",
    "        tag = ''.join(tags).replace(\"#\",\" \") # \"#\" 제거 \n",
    "        tag_data = tag.split() \n",
    "        for tag_one in tag_data: \n",
    "            instagram_tags.append(tag_one) \n",
    "            # print(instagram_tags) \n",
    "        date = driver.find_element_by_css_selector(\"time.FH9sR.Nzb55\" ).text # 날짜 선택 \n",
    "        if date.find('시간') != -1 or date.find('일') != -1 or date.find('분') != -1: \n",
    "            instagram_tag_dates.append('0주') \n",
    "        else: \n",
    "            instagram_tag_dates.append(date) \n",
    "            #print(instagram_tag_dates) \n",
    "    except: \n",
    "        instagram_tags.append(\"error\") \n",
    "        instagram_tag_dates.append('error') \n",
    "    try: \n",
    "        WebDriverWait(driver, 100).until(EC.presence_of_element_located((By.CSS_SELECTOR, 'a.HBoOv.coreSpriteRightPaginationArrow'))) \n",
    "        driver.find_element_by_css_selector('a.HBoOv.coreSpriteRightPaginationArrow').click() \n",
    "    except: \n",
    "#         driver.close() \n",
    "        date = datum2.text \n",
    "        #print(date) \n",
    "#     time.sleep(3) \n",
    "# driver.close()"
   ]
  }
 ],
 "metadata": {
  "kernelspec": {
   "display_name": "Python 3",
   "language": "python",
   "name": "python3"
  },
  "language_info": {
   "codemirror_mode": {
    "name": "ipython",
    "version": 3
   },
   "file_extension": ".py",
   "mimetype": "text/x-python",
   "name": "python",
   "nbconvert_exporter": "python",
   "pygments_lexer": "ipython3",
   "version": "3.6.5"
  },
  "toc": {
   "base_numbering": 1,
   "nav_menu": {},
   "number_sections": true,
   "sideBar": true,
   "skip_h1_title": false,
   "title_cell": "Table of Contents",
   "title_sidebar": "Contents",
   "toc_cell": false,
   "toc_position": {},
   "toc_section_display": true,
   "toc_window_display": false
  },
  "varInspector": {
   "cols": {
    "lenName": 16,
    "lenType": 16,
    "lenVar": 40
   },
   "kernels_config": {
    "python": {
     "delete_cmd_postfix": "",
     "delete_cmd_prefix": "del ",
     "library": "var_list.py",
     "varRefreshCmd": "print(var_dic_list())"
    },
    "r": {
     "delete_cmd_postfix": ") ",
     "delete_cmd_prefix": "rm(",
     "library": "var_list.r",
     "varRefreshCmd": "cat(var_dic_list()) "
    }
   },
   "types_to_exclude": [
    "module",
    "function",
    "builtin_function_or_method",
    "instance",
    "_Feature"
   ],
   "window_display": false
  }
 },
 "nbformat": 4,
 "nbformat_minor": 2
}
